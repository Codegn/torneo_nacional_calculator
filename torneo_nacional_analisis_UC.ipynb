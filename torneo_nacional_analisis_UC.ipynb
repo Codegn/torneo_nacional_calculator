{
 "cells": [
  {
   "cell_type": "markdown",
   "metadata": {},
   "source": [
    "# Probabilidad de que UC salga campeón en fecha 28"
   ]
  },
  {
   "cell_type": "code",
   "execution_count": 61,
   "metadata": {},
   "outputs": [],
   "source": [
    "import pandas as pd\n",
    "import numpy as np\n",
    "import matplotlib"
   ]
  },
  {
   "cell_type": "code",
   "execution_count": 62,
   "metadata": {},
   "outputs": [],
   "source": [
    "total_fechas = 30\n",
    "fecha_analisis = 25\n",
    "partidos_x_fecha = 8\n",
    "equipo_analisis = 'U.Católica (Chile)'"
   ]
  },
  {
   "cell_type": "code",
   "execution_count": 63,
   "metadata": {},
   "outputs": [],
   "source": [
    "df = pd.read_csv('probs.csv', sep = ',', encoding = 'latin1')"
   ]
  },
  {
   "cell_type": "code",
   "execution_count": 64,
   "metadata": {},
   "outputs": [],
   "source": [
    "df = df.iloc[:-(total_fechas-fecha_analisis)*partidos_x_fecha]"
   ]
  },
  {
   "cell_type": "code",
   "execution_count": 65,
   "metadata": {},
   "outputs": [
    {
     "data": {
      "text/html": [
       "<div>\n",
       "<style scoped>\n",
       "    .dataframe tbody tr th:only-of-type {\n",
       "        vertical-align: middle;\n",
       "    }\n",
       "\n",
       "    .dataframe tbody tr th {\n",
       "        vertical-align: top;\n",
       "    }\n",
       "\n",
       "    .dataframe thead th {\n",
       "        text-align: right;\n",
       "    }\n",
       "</style>\n",
       "<table border=\"1\" class=\"dataframe\">\n",
       "  <thead>\n",
       "    <tr style=\"text-align: right;\">\n",
       "      <th></th>\n",
       "      <th>LOCAL</th>\n",
       "      <th>VISITA</th>\n",
       "      <th>GL</th>\n",
       "      <th>EM</th>\n",
       "      <th>GV</th>\n",
       "    </tr>\n",
       "  </thead>\n",
       "  <tbody>\n",
       "    <tr>\n",
       "      <td>197</td>\n",
       "      <td>U.Católica (Chile)</td>\n",
       "      <td>Colo Colo (Chile)</td>\n",
       "      <td>0.50</td>\n",
       "      <td>0.24</td>\n",
       "      <td>0.25</td>\n",
       "    </tr>\n",
       "    <tr>\n",
       "      <td>198</td>\n",
       "      <td>U.de Chile (Chile)</td>\n",
       "      <td>Everton (Chile)</td>\n",
       "      <td>0.43</td>\n",
       "      <td>0.31</td>\n",
       "      <td>0.25</td>\n",
       "    </tr>\n",
       "    <tr>\n",
       "      <td>199</td>\n",
       "      <td>U.de Concepción (Chile)</td>\n",
       "      <td>U.La Calera (Chile)</td>\n",
       "      <td>0.40</td>\n",
       "      <td>0.23</td>\n",
       "      <td>0.38</td>\n",
       "    </tr>\n",
       "  </tbody>\n",
       "</table>\n",
       "</div>"
      ],
      "text/plain": [
       "                       LOCAL               VISITA    GL    EM    GV\n",
       "197       U.Católica (Chile)    Colo Colo (Chile)  0.50  0.24  0.25\n",
       "198       U.de Chile (Chile)      Everton (Chile)  0.43  0.31  0.25\n",
       "199  U.de Concepción (Chile)  U.La Calera (Chile)  0.40  0.23  0.38"
      ]
     },
     "execution_count": 65,
     "metadata": {},
     "output_type": "execute_result"
    }
   ],
   "source": [
    "df.tail(3)"
   ]
  },
  {
   "cell_type": "code",
   "execution_count": 66,
   "metadata": {},
   "outputs": [
    {
     "data": {
      "text/plain": [
       "200"
      ]
     },
     "execution_count": 66,
     "metadata": {},
     "output_type": "execute_result"
    }
   ],
   "source": [
    "total_partidos = df.shape[0]\n",
    "total_partidos"
   ]
  },
  {
   "cell_type": "code",
   "execution_count": 67,
   "metadata": {
    "scrolled": false
   },
   "outputs": [
    {
     "data": {
      "text/plain": [
       "['U.Católica (Chile)',\n",
       " 'Colo Colo (Chile)',\n",
       " 'Palestino (Chile)',\n",
       " 'Audax Italiano (Chile)',\n",
       " \"O'Higgins (Chile)\",\n",
       " 'Huachipato (Chile)',\n",
       " 'Coquimbo Unido (Chile)',\n",
       " 'U.La Calera (Chile)',\n",
       " 'U.Española (Chile)',\n",
       " 'Cobresal (Chile)',\n",
       " 'Curicó Unido (Chile)',\n",
       " 'Everton (Chile)',\n",
       " 'Iquique (Chile)',\n",
       " 'Antofagasta (Chile)',\n",
       " 'U.de Chile (Chile)',\n",
       " 'U.de Concepción (Chile)']"
      ]
     },
     "execution_count": 67,
     "metadata": {},
     "output_type": "execute_result"
    }
   ],
   "source": [
    "df_equipos = pd.read_csv('tabla_equipos_actual.csv', sep = ';', encoding = 'latin-1')\n",
    "equipos = list(df_equipos['EQUIPO'])\n",
    "equipos"
   ]
  },
  {
   "cell_type": "code",
   "execution_count": 68,
   "metadata": {},
   "outputs": [],
   "source": [
    "def suma_puntos(row):\n",
    "    indice_local = equipos.index(row['LOCAL'])\n",
    "    indice_visita = equipos.index(row['VISITA'])\n",
    "    if row['r_uniform'] <= row['GL']:\n",
    "        puntajes[indice_local] += 3\n",
    "    elif row['r_uniform'] >= 1 - row['GV']:\n",
    "        puntajes[indice_visita] += 3\n",
    "    else:\n",
    "        puntajes[indice_local] += 1\n",
    "        puntajes[indice_visita] += 1"
   ]
  },
  {
   "cell_type": "code",
   "execution_count": 69,
   "metadata": {},
   "outputs": [],
   "source": [
    "n_iter = 1000\n",
    "puntajes_guardados = []\n",
    "posiciones_guardadas = []\n",
    "for i in range(n_iter):\n",
    "    puntajes = [0] * len(equipos)\n",
    "    df['r_uniform'] = np.random.uniform(low=0.0, high=1.0, size=total_partidos)\n",
    "    df.apply(suma_puntos, axis=1)\n",
    "    puntajes_guardados.append(puntajes)\n",
    "    \n",
    "    s = pd.Series(puntajes)\n",
    "    posiciones = list(s.rank(method='first', ascending = False))\n",
    "    posiciones_guardadas.append(posiciones)"
   ]
  },
  {
   "cell_type": "code",
   "execution_count": 70,
   "metadata": {},
   "outputs": [],
   "source": [
    "puntajes_guardados_df = pd.DataFrame(puntajes_guardados, columns = equipos)"
   ]
  },
  {
   "cell_type": "code",
   "execution_count": 71,
   "metadata": {},
   "outputs": [
    {
     "data": {
      "text/html": [
       "<div>\n",
       "<style scoped>\n",
       "    .dataframe tbody tr th:only-of-type {\n",
       "        vertical-align: middle;\n",
       "    }\n",
       "\n",
       "    .dataframe tbody tr th {\n",
       "        vertical-align: top;\n",
       "    }\n",
       "\n",
       "    .dataframe thead th {\n",
       "        text-align: right;\n",
       "    }\n",
       "</style>\n",
       "<table border=\"1\" class=\"dataframe\">\n",
       "  <thead>\n",
       "    <tr style=\"text-align: right;\">\n",
       "      <th></th>\n",
       "      <th>U.Católica (Chile)</th>\n",
       "      <th>Colo Colo (Chile)</th>\n",
       "      <th>Palestino (Chile)</th>\n",
       "      <th>Audax Italiano (Chile)</th>\n",
       "      <th>O'Higgins (Chile)</th>\n",
       "      <th>Huachipato (Chile)</th>\n",
       "      <th>Coquimbo Unido (Chile)</th>\n",
       "      <th>U.La Calera (Chile)</th>\n",
       "      <th>U.Española (Chile)</th>\n",
       "      <th>Cobresal (Chile)</th>\n",
       "      <th>Curicó Unido (Chile)</th>\n",
       "      <th>Everton (Chile)</th>\n",
       "      <th>Iquique (Chile)</th>\n",
       "      <th>Antofagasta (Chile)</th>\n",
       "      <th>U.de Chile (Chile)</th>\n",
       "      <th>U.de Concepción (Chile)</th>\n",
       "    </tr>\n",
       "  </thead>\n",
       "  <tbody>\n",
       "    <tr>\n",
       "      <td>997</td>\n",
       "      <td>56</td>\n",
       "      <td>42</td>\n",
       "      <td>39</td>\n",
       "      <td>40</td>\n",
       "      <td>34</td>\n",
       "      <td>36</td>\n",
       "      <td>38</td>\n",
       "      <td>36</td>\n",
       "      <td>33</td>\n",
       "      <td>31</td>\n",
       "      <td>32</td>\n",
       "      <td>26</td>\n",
       "      <td>27</td>\n",
       "      <td>24</td>\n",
       "      <td>27</td>\n",
       "      <td>23</td>\n",
       "    </tr>\n",
       "    <tr>\n",
       "      <td>998</td>\n",
       "      <td>59</td>\n",
       "      <td>39</td>\n",
       "      <td>42</td>\n",
       "      <td>40</td>\n",
       "      <td>37</td>\n",
       "      <td>39</td>\n",
       "      <td>38</td>\n",
       "      <td>34</td>\n",
       "      <td>32</td>\n",
       "      <td>29</td>\n",
       "      <td>32</td>\n",
       "      <td>26</td>\n",
       "      <td>27</td>\n",
       "      <td>24</td>\n",
       "      <td>24</td>\n",
       "      <td>21</td>\n",
       "    </tr>\n",
       "    <tr>\n",
       "      <td>999</td>\n",
       "      <td>59</td>\n",
       "      <td>42</td>\n",
       "      <td>41</td>\n",
       "      <td>37</td>\n",
       "      <td>36</td>\n",
       "      <td>36</td>\n",
       "      <td>38</td>\n",
       "      <td>36</td>\n",
       "      <td>34</td>\n",
       "      <td>31</td>\n",
       "      <td>32</td>\n",
       "      <td>27</td>\n",
       "      <td>25</td>\n",
       "      <td>24</td>\n",
       "      <td>23</td>\n",
       "      <td>21</td>\n",
       "    </tr>\n",
       "  </tbody>\n",
       "</table>\n",
       "</div>"
      ],
      "text/plain": [
       "     U.Católica (Chile)  Colo Colo (Chile)  Palestino (Chile)  \\\n",
       "997                  56                 42                 39   \n",
       "998                  59                 39                 42   \n",
       "999                  59                 42                 41   \n",
       "\n",
       "     Audax Italiano (Chile)  O'Higgins (Chile)  Huachipato (Chile)  \\\n",
       "997                      40                 34                  36   \n",
       "998                      40                 37                  39   \n",
       "999                      37                 36                  36   \n",
       "\n",
       "     Coquimbo Unido (Chile)  U.La Calera (Chile)  U.Española (Chile)  \\\n",
       "997                      38                   36                  33   \n",
       "998                      38                   34                  32   \n",
       "999                      38                   36                  34   \n",
       "\n",
       "     Cobresal (Chile)  Curicó Unido (Chile)  Everton (Chile)  Iquique (Chile)  \\\n",
       "997                31                    32               26               27   \n",
       "998                29                    32               26               27   \n",
       "999                31                    32               27               25   \n",
       "\n",
       "     Antofagasta (Chile)  U.de Chile (Chile)  U.de Concepción (Chile)  \n",
       "997                   24                  27                       23  \n",
       "998                   24                  24                       21  \n",
       "999                   24                  23                       21  "
      ]
     },
     "execution_count": 71,
     "metadata": {},
     "output_type": "execute_result"
    }
   ],
   "source": [
    "puntajes_guardados_df.tail(3)"
   ]
  },
  {
   "cell_type": "code",
   "execution_count": 72,
   "metadata": {},
   "outputs": [
    {
     "data": {
      "image/png": "[encoded data removed]",
      "text/plain": [
       "<Figure size 432x288 with 1 Axes>"
      ]
     },
     "metadata": {
      "needs_background": "light"
     },
     "output_type": "display_data"
    }
   ],
   "source": [
    "boxplot = puntajes_guardados_df.boxplot(rot=90)"
   ]
  },
  {
   "cell_type": "code",
   "execution_count": 73,
   "metadata": {},
   "outputs": [],
   "source": [
    "puntajes_guardados_df['second_place'] = puntajes_guardados_df.apply(lambda row: row.nlargest(2).values[-1],axis=1)"
   ]
  },
  {
   "cell_type": "code",
   "execution_count": 74,
   "metadata": {},
   "outputs": [],
   "source": [
    "puntajes_guardados_df.loc[puntajes_guardados_df[equipo_analisis] > puntajes_guardados_df['second_place'] + 3*(total_fechas - fecha_analisis), equipo_analisis + '_campeon'] = 1\n",
    "puntajes_guardados_df.loc[puntajes_guardados_df[equipo_analisis] <= puntajes_guardados_df['second_place'] + 3*(total_fechas - fecha_analisis), equipo_analisis + '_campeon'] = 0"
   ]
  },
  {
   "cell_type": "code",
   "execution_count": 75,
   "metadata": {},
   "outputs": [
    {
     "data": {
      "text/plain": [
       "492.0"
      ]
     },
     "execution_count": 75,
     "metadata": {},
     "output_type": "execute_result"
    }
   ],
   "source": [
    "sum(puntajes_guardados_df[equipo_analisis + '_campeon'])"
   ]
  },
  {
   "cell_type": "code",
   "execution_count": null,
   "metadata": {},
   "outputs": [],
   "source": []
  }
 ],
 "metadata": {
  "kernelspec": {
   "display_name": "Python 3",
   "language": "python",
   "name": "python3"
  },
  "language_info": {
   "codemirror_mode": {
    "name": "ipython",
    "version": 3
   },
   "file_extension": ".py",
   "mimetype": "text/x-python",
   "name": "python",
   "nbconvert_exporter": "python",
   "pygments_lexer": "ipython3",
   "version": "3.7.3"
  }
 },
 "nbformat": 4,
 "nbformat_minor": 2
}
