{
 "cells": [
  {
   "cell_type": "markdown",
   "metadata": {},
   "source": [
    "# Probabilidad de que UC salga campeón en fecha 28"
   ]
  },
  {
   "cell_type": "code",
   "execution_count": 1,
   "metadata": {},
   "outputs": [],
   "source": [
    "import pandas as pd\n",
    "import numpy as np\n",
    "import matplotlib"
   ]
  },
  {
   "cell_type": "code",
   "execution_count": 2,
   "metadata": {},
   "outputs": [],
   "source": [
    "total_fechas = 30\n",
    "fecha_analisis = 28\n",
    "partidos_x_fecha = 8\n",
    "equipo_analisis = 'U.Católica (Chile)'"
   ]
  },
  {
   "cell_type": "code",
   "execution_count": 3,
   "metadata": {},
   "outputs": [],
   "source": [
    "df = pd.read_csv('probs.csv', sep = ';', encoding = 'latin1')"
   ]
  },
  {
   "cell_type": "code",
   "execution_count": 4,
   "metadata": {},
   "outputs": [],
   "source": [
    "df = df.iloc[:-(total_fechas-fecha_analisis)*partidos_x_fecha]"
   ]
  },
  {
   "cell_type": "code",
   "execution_count": 5,
   "metadata": {},
   "outputs": [
    {
     "data": {
      "text/html": [
       "<div>\n",
       "<style scoped>\n",
       "    .dataframe tbody tr th:only-of-type {\n",
       "        vertical-align: middle;\n",
       "    }\n",
       "\n",
       "    .dataframe tbody tr th {\n",
       "        vertical-align: top;\n",
       "    }\n",
       "\n",
       "    .dataframe thead th {\n",
       "        text-align: right;\n",
       "    }\n",
       "</style>\n",
       "<table border=\"1\" class=\"dataframe\">\n",
       "  <thead>\n",
       "    <tr style=\"text-align: right;\">\n",
       "      <th></th>\n",
       "      <th>LOCAL</th>\n",
       "      <th>VISITA</th>\n",
       "      <th>GL</th>\n",
       "      <th>EM</th>\n",
       "      <th>GV</th>\n",
       "    </tr>\n",
       "  </thead>\n",
       "  <tbody>\n",
       "    <tr>\n",
       "      <th>221</th>\n",
       "      <td>U.La Calera (Chile)</td>\n",
       "      <td>Coquimbo Unido (Chile)</td>\n",
       "      <td>0.36</td>\n",
       "      <td>0.33</td>\n",
       "      <td>0.30</td>\n",
       "    </tr>\n",
       "    <tr>\n",
       "      <th>222</th>\n",
       "      <td>U.Católica (Chile)</td>\n",
       "      <td>Palestino (Chile)</td>\n",
       "      <td>0.49</td>\n",
       "      <td>0.32</td>\n",
       "      <td>0.19</td>\n",
       "    </tr>\n",
       "    <tr>\n",
       "      <th>223</th>\n",
       "      <td>U.de Chile (Chile)</td>\n",
       "      <td>U.de Concepción (Chile)</td>\n",
       "      <td>0.42</td>\n",
       "      <td>0.31</td>\n",
       "      <td>0.26</td>\n",
       "    </tr>\n",
       "  </tbody>\n",
       "</table>\n",
       "</div>"
      ],
      "text/plain": [
       "                   LOCAL                   VISITA    GL    EM    GV\n",
       "221  U.La Calera (Chile)   Coquimbo Unido (Chile)  0.36  0.33  0.30\n",
       "222   U.Católica (Chile)        Palestino (Chile)  0.49  0.32  0.19\n",
       "223   U.de Chile (Chile)  U.de Concepción (Chile)  0.42  0.31  0.26"
      ]
     },
     "execution_count": 5,
     "metadata": {},
     "output_type": "execute_result"
    }
   ],
   "source": [
    "df.tail(3)"
   ]
  },
  {
   "cell_type": "code",
   "execution_count": 6,
   "metadata": {},
   "outputs": [
    {
     "data": {
      "text/plain": [
       "224"
      ]
     },
     "execution_count": 6,
     "metadata": {},
     "output_type": "execute_result"
    }
   ],
   "source": [
    "total_partidos = df.shape[0]\n",
    "total_partidos"
   ]
  },
  {
   "cell_type": "code",
   "execution_count": 7,
   "metadata": {
    "scrolled": false
   },
   "outputs": [
    {
     "data": {
      "text/plain": [
       "['U.Católica (Chile)',\n",
       " 'Colo Colo (Chile)',\n",
       " 'Palestino (Chile)',\n",
       " 'Audax Italiano (Chile)',\n",
       " \"O'Higgins (Chile)\",\n",
       " 'Huachipato (Chile)',\n",
       " 'Coquimbo Unido (Chile)',\n",
       " 'U.La Calera (Chile)',\n",
       " 'U.Española (Chile)',\n",
       " 'Cobresal (Chile)',\n",
       " 'Curicó Unido (Chile)',\n",
       " 'Everton (Chile)',\n",
       " 'Iquique (Chile)',\n",
       " 'Antofagasta (Chile)',\n",
       " 'U.de Chile (Chile)',\n",
       " 'U.de Concepción (Chile)']"
      ]
     },
     "execution_count": 7,
     "metadata": {},
     "output_type": "execute_result"
    }
   ],
   "source": [
    "df_equipos = pd.read_csv('tabla_equipos_actual.csv', sep = ';', encoding = 'latin-1')\n",
    "equipos = list(df_equipos['EQUIPO'])\n",
    "equipos"
   ]
  },
  {
   "cell_type": "code",
   "execution_count": 8,
   "metadata": {},
   "outputs": [],
   "source": [
    "def suma_puntos(row):\n",
    "    indice_local = equipos.index(row['LOCAL'])\n",
    "    indice_visita = equipos.index(row['VISITA'])\n",
    "    if row['r_uniform'] <= row['GL']:\n",
    "        puntajes[indice_local] += 3\n",
    "    elif row['r_uniform'] >= 1 - row['GV']:\n",
    "        puntajes[indice_visita] += 3\n",
    "    else:\n",
    "        puntajes[indice_local] += 1\n",
    "        puntajes[indice_visita] += 1"
   ]
  },
  {
   "cell_type": "code",
   "execution_count": 9,
   "metadata": {},
   "outputs": [],
   "source": [
    "n_iter = 10000\n",
    "puntajes_guardados = []\n",
    "posiciones_guardadas = []\n",
    "for i in range(n_iter):\n",
    "    puntajes = [0] * len(equipos)\n",
    "    df['r_uniform'] = np.random.uniform(low=0.0, high=1.0, size=total_partidos)\n",
    "    df.apply(suma_puntos, axis=1)\n",
    "    puntajes_guardados.append(puntajes)\n",
    "    \n",
    "    s = pd.Series(puntajes)\n",
    "    posiciones = list(s.rank(method='first', ascending = False))\n",
    "    posiciones_guardadas.append(posiciones)"
   ]
  },
  {
   "cell_type": "code",
   "execution_count": 10,
   "metadata": {},
   "outputs": [],
   "source": [
    "puntajes_guardados_df = pd.DataFrame(puntajes_guardados, columns = equipos)"
   ]
  },
  {
   "cell_type": "code",
   "execution_count": 11,
   "metadata": {},
   "outputs": [
    {
     "data": {
      "text/html": [
       "<div>\n",
       "<style scoped>\n",
       "    .dataframe tbody tr th:only-of-type {\n",
       "        vertical-align: middle;\n",
       "    }\n",
       "\n",
       "    .dataframe tbody tr th {\n",
       "        vertical-align: top;\n",
       "    }\n",
       "\n",
       "    .dataframe thead th {\n",
       "        text-align: right;\n",
       "    }\n",
       "</style>\n",
       "<table border=\"1\" class=\"dataframe\">\n",
       "  <thead>\n",
       "    <tr style=\"text-align: right;\">\n",
       "      <th></th>\n",
       "      <th>U.Católica (Chile)</th>\n",
       "      <th>Colo Colo (Chile)</th>\n",
       "      <th>Palestino (Chile)</th>\n",
       "      <th>Audax Italiano (Chile)</th>\n",
       "      <th>O'Higgins (Chile)</th>\n",
       "      <th>Huachipato (Chile)</th>\n",
       "      <th>Coquimbo Unido (Chile)</th>\n",
       "      <th>U.La Calera (Chile)</th>\n",
       "      <th>U.Española (Chile)</th>\n",
       "      <th>Cobresal (Chile)</th>\n",
       "      <th>Curicó Unido (Chile)</th>\n",
       "      <th>Everton (Chile)</th>\n",
       "      <th>Iquique (Chile)</th>\n",
       "      <th>Antofagasta (Chile)</th>\n",
       "      <th>U.de Chile (Chile)</th>\n",
       "      <th>U.de Concepción (Chile)</th>\n",
       "    </tr>\n",
       "  </thead>\n",
       "  <tbody>\n",
       "    <tr>\n",
       "      <th>9997</th>\n",
       "      <td>61</td>\n",
       "      <td>46</td>\n",
       "      <td>43</td>\n",
       "      <td>41</td>\n",
       "      <td>41</td>\n",
       "      <td>39</td>\n",
       "      <td>41</td>\n",
       "      <td>38</td>\n",
       "      <td>37</td>\n",
       "      <td>42</td>\n",
       "      <td>30</td>\n",
       "      <td>30</td>\n",
       "      <td>28</td>\n",
       "      <td>31</td>\n",
       "      <td>29</td>\n",
       "      <td>29</td>\n",
       "    </tr>\n",
       "    <tr>\n",
       "      <th>9998</th>\n",
       "      <td>59</td>\n",
       "      <td>45</td>\n",
       "      <td>43</td>\n",
       "      <td>41</td>\n",
       "      <td>47</td>\n",
       "      <td>43</td>\n",
       "      <td>38</td>\n",
       "      <td>35</td>\n",
       "      <td>38</td>\n",
       "      <td>37</td>\n",
       "      <td>34</td>\n",
       "      <td>32</td>\n",
       "      <td>28</td>\n",
       "      <td>27</td>\n",
       "      <td>33</td>\n",
       "      <td>24</td>\n",
       "    </tr>\n",
       "    <tr>\n",
       "      <th>9999</th>\n",
       "      <td>66</td>\n",
       "      <td>45</td>\n",
       "      <td>46</td>\n",
       "      <td>46</td>\n",
       "      <td>42</td>\n",
       "      <td>43</td>\n",
       "      <td>42</td>\n",
       "      <td>33</td>\n",
       "      <td>34</td>\n",
       "      <td>35</td>\n",
       "      <td>32</td>\n",
       "      <td>31</td>\n",
       "      <td>28</td>\n",
       "      <td>26</td>\n",
       "      <td>30</td>\n",
       "      <td>26</td>\n",
       "    </tr>\n",
       "  </tbody>\n",
       "</table>\n",
       "</div>"
      ],
      "text/plain": [
       "      U.Católica (Chile)  Colo Colo (Chile)  Palestino (Chile)  \\\n",
       "9997                  61                 46                 43   \n",
       "9998                  59                 45                 43   \n",
       "9999                  66                 45                 46   \n",
       "\n",
       "      Audax Italiano (Chile)  O'Higgins (Chile)  Huachipato (Chile)  \\\n",
       "9997                      41                 41                  39   \n",
       "9998                      41                 47                  43   \n",
       "9999                      46                 42                  43   \n",
       "\n",
       "      Coquimbo Unido (Chile)  U.La Calera (Chile)  U.Española (Chile)  \\\n",
       "9997                      41                   38                  37   \n",
       "9998                      38                   35                  38   \n",
       "9999                      42                   33                  34   \n",
       "\n",
       "      Cobresal (Chile)  Curicó Unido (Chile)  Everton (Chile)  \\\n",
       "9997                42                    30               30   \n",
       "9998                37                    34               32   \n",
       "9999                35                    32               31   \n",
       "\n",
       "      Iquique (Chile)  Antofagasta (Chile)  U.de Chile (Chile)  \\\n",
       "9997               28                   31                  29   \n",
       "9998               28                   27                  33   \n",
       "9999               28                   26                  30   \n",
       "\n",
       "      U.de Concepción (Chile)  \n",
       "9997                       29  \n",
       "9998                       24  \n",
       "9999                       26  "
      ]
     },
     "execution_count": 11,
     "metadata": {},
     "output_type": "execute_result"
    }
   ],
   "source": [
    "puntajes_guardados_df.tail(3)"
   ]
  },
  {
   "cell_type": "code",
   "execution_count": 12,
   "metadata": {},
   "outputs": [],
   "source": [
    "boxplot = puntajes_guardados_df.boxplot(rot=90)"
   ]
  },
  {
   "cell_type": "code",
   "execution_count": 13,
   "metadata": {},
   "outputs": [],
   "source": [
    "puntajes_guardados_df['second_place'] = puntajes_guardados_df.apply(lambda row: row.nlargest(2).values[-1],axis=1)"
   ]
  },
  {
   "cell_type": "code",
   "execution_count": 14,
   "metadata": {},
   "outputs": [],
   "source": [
    "puntajes_guardados_df.loc[puntajes_guardados_df[equipo_analisis] > puntajes_guardados_df['second_place'] + 3*(total_fechas - fecha_analisis), equipo_analisis + '_campeon'] = 1\n",
    "puntajes_guardados_df.loc[puntajes_guardados_df[equipo_analisis] <= puntajes_guardados_df['second_place'] + 3*(total_fechas - fecha_analisis), equipo_analisis + '_campeon'] = 0"
   ]
  },
  {
   "cell_type": "code",
   "execution_count": 15,
   "metadata": {},
   "outputs": [
    {
     "data": {
      "text/plain": [
       "9519.0"
      ]
     },
     "execution_count": 15,
     "metadata": {},
     "output_type": "execute_result"
    }
   ],
   "source": [
    "sum(puntajes_guardados_df[equipo_analisis + '_campeon'])"
   ]
  },
  {
   "cell_type": "code",
   "execution_count": null,
   "metadata": {},
   "outputs": [],
   "source": []
  }
 ],
 "metadata": {
  "kernelspec": {
   "display_name": "Python 3",
   "language": "python",
   "name": "python3"
  },
  "language_info": {
   "codemirror_mode": {
    "name": "ipython",
    "version": 3
   },
   "file_extension": ".py",
   "mimetype": "text/x-python",
   "name": "python",
   "nbconvert_exporter": "python",
   "pygments_lexer": "ipython3",
   "version": "3.7.3"
  }
 },
 "nbformat": 4,
 "nbformat_minor": 2
}
